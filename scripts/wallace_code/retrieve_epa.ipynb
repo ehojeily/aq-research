{
 "cells": [
  {
   "cell_type": "code",
   "execution_count": 1,
   "id": "1715914a-775f-48c9-940a-413b226c26f5",
   "metadata": {},
   "outputs": [],
   "source": [
    "import numpy as np\n",
    "import pandas as pd\n",
    "import matplotlib as mpl\n",
    "import matplotlib.pyplot as plt\n",
    "import matplotlib.colors as colors\n",
    "import xarray as xr\n",
    "from matplotlib import gridspec\n",
    "from mpl_toolkits.axes_grid1 import make_axes_locatable\n",
    "from matplotlib import ticker\n",
    "from datetime import datetime, timedelta, date\n",
    "from matplotlib.path import Path\n",
    "import matplotlib.patheffects as pe\n",
    "import glob,os\n",
    "import time\n",
    "from matplotlib.dates import DateFormatter\n",
    "import matplotlib.dates as mdates\n",
    "import scipy\n",
    "from scipy import stats"
   ]
  },
  {
   "cell_type": "code",
   "execution_count": 6,
   "id": "6ee4cc6a-5b7b-43e1-a91e-00ebfc2b4485",
   "metadata": {},
   "outputs": [],
   "source": [
    "###parameters###\n",
    "startyear,startmonth,startday=2022,7,1\n",
    "endyear,endmonth,endday=2022,8,1\n",
    "\n",
    "email='bwallace3@albany.edu' #this needs to be substituted with your own email that you used to signup for the API\n",
    "key='greycat81' #once you've signed up with your email, they'll assign a personal key to you\n",
    "\n",
    "params='44201,42101,42602,42603,88101' #refer to paramaters.csv or https://aqs.epa.gov/aqsweb/documents/codetables/parameters.html\n",
    "                                       #44201 - O3, 42101 - CO, 42602 - NO2, 42603 - NO, 88101 - PM2.5\n",
    "state='36'\n",
    "county='081'\n",
    "site='0124'\n",
    "\n",
    "dates=np.arange(datetime(startyear,startmonth,startday),datetime(endyear,endmonth,endday),timedelta(days=1)).astype(datetime)"
   ]
  },
  {
   "cell_type": "code",
   "execution_count": 7,
   "id": "1039589b-717e-4e0c-9d95-1520ebdf4d89",
   "metadata": {},
   "outputs": [
    {
     "ename": "NotImplementedError",
     "evalue": "",
     "output_type": "error",
     "traceback": [
      "\u001b[0;31m---------------------------------------------------------------------------\u001b[0m",
      "\u001b[0;31mNotImplementedError\u001b[0m                       Traceback (most recent call last)",
      "\u001b[0;32m/tmp/ipykernel_3405088/3695417909.py\u001b[0m in \u001b[0;36m<module>\u001b[0;34m\u001b[0m\n\u001b[1;32m      9\u001b[0m         email,key,params,sdyr+sdmo+sddy,state,county,site),orient='index')\n\u001b[1;32m     10\u001b[0m \u001b[0;34m\u001b[0m\u001b[0m\n\u001b[0;32m---> 11\u001b[0;31m     \u001b[0mdf\u001b[0m\u001b[0;34m=\u001b[0m\u001b[0mpd\u001b[0m\u001b[0;34m.\u001b[0m\u001b[0mconcat\u001b[0m\u001b[0;34m(\u001b[0m\u001b[0;34m[\u001b[0m\u001b[0mpd\u001b[0m\u001b[0;34m.\u001b[0m\u001b[0mjson_normalize\u001b[0m\u001b[0;34m(\u001b[0m\u001b[0mpdobj\u001b[0m\u001b[0;34m[\u001b[0m\u001b[0mcol_idx\u001b[0m\u001b[0;34m]\u001b[0m\u001b[0;34m.\u001b[0m\u001b[0mData\u001b[0m\u001b[0;34m)\u001b[0m \u001b[0;32mfor\u001b[0m \u001b[0mcol_idx\u001b[0m \u001b[0;32min\u001b[0m \u001b[0mpdobj\u001b[0m\u001b[0;34m.\u001b[0m\u001b[0mcolumns\u001b[0m\u001b[0;34m]\u001b[0m\u001b[0;34m)\u001b[0m\u001b[0;34m\u001b[0m\u001b[0;34m\u001b[0m\u001b[0m\n\u001b[0m\u001b[1;32m     12\u001b[0m \u001b[0;34m\u001b[0m\u001b[0m\n\u001b[1;32m     13\u001b[0m     \u001b[0mtimes\u001b[0m\u001b[0;34m=\u001b[0m\u001b[0mdf\u001b[0m\u001b[0;34m.\u001b[0m\u001b[0mdate_local\u001b[0m\u001b[0;34m+\u001b[0m\u001b[0;34m'_'\u001b[0m\u001b[0;34m+\u001b[0m\u001b[0mdf\u001b[0m\u001b[0;34m.\u001b[0m\u001b[0mtime_local\u001b[0m\u001b[0;34m\u001b[0m\u001b[0;34m\u001b[0m\u001b[0m\n",
      "\u001b[0;32m/tmp/ipykernel_3405088/3695417909.py\u001b[0m in \u001b[0;36m<listcomp>\u001b[0;34m(.0)\u001b[0m\n\u001b[1;32m      9\u001b[0m         email,key,params,sdyr+sdmo+sddy,state,county,site),orient='index')\n\u001b[1;32m     10\u001b[0m \u001b[0;34m\u001b[0m\u001b[0m\n\u001b[0;32m---> 11\u001b[0;31m     \u001b[0mdf\u001b[0m\u001b[0;34m=\u001b[0m\u001b[0mpd\u001b[0m\u001b[0;34m.\u001b[0m\u001b[0mconcat\u001b[0m\u001b[0;34m(\u001b[0m\u001b[0;34m[\u001b[0m\u001b[0mpd\u001b[0m\u001b[0;34m.\u001b[0m\u001b[0mjson_normalize\u001b[0m\u001b[0;34m(\u001b[0m\u001b[0mpdobj\u001b[0m\u001b[0;34m[\u001b[0m\u001b[0mcol_idx\u001b[0m\u001b[0;34m]\u001b[0m\u001b[0;34m.\u001b[0m\u001b[0mData\u001b[0m\u001b[0;34m)\u001b[0m \u001b[0;32mfor\u001b[0m \u001b[0mcol_idx\u001b[0m \u001b[0;32min\u001b[0m \u001b[0mpdobj\u001b[0m\u001b[0;34m.\u001b[0m\u001b[0mcolumns\u001b[0m\u001b[0;34m]\u001b[0m\u001b[0;34m)\u001b[0m\u001b[0;34m\u001b[0m\u001b[0;34m\u001b[0m\u001b[0m\n\u001b[0m\u001b[1;32m     12\u001b[0m \u001b[0;34m\u001b[0m\u001b[0m\n\u001b[1;32m     13\u001b[0m     \u001b[0mtimes\u001b[0m\u001b[0;34m=\u001b[0m\u001b[0mdf\u001b[0m\u001b[0;34m.\u001b[0m\u001b[0mdate_local\u001b[0m\u001b[0;34m+\u001b[0m\u001b[0;34m'_'\u001b[0m\u001b[0;34m+\u001b[0m\u001b[0mdf\u001b[0m\u001b[0;34m.\u001b[0m\u001b[0mtime_local\u001b[0m\u001b[0;34m\u001b[0m\u001b[0;34m\u001b[0m\u001b[0m\n",
      "\u001b[0;32m~/.conda/envs/analysis/lib/python3.9/site-packages/pandas/io/json/_normalize.py\u001b[0m in \u001b[0;36m_json_normalize\u001b[0;34m(data, record_path, meta, meta_prefix, record_prefix, errors, sep, max_level)\u001b[0m\n\u001b[1;32m    421\u001b[0m         \u001b[0mdata\u001b[0m \u001b[0;34m=\u001b[0m \u001b[0mlist\u001b[0m\u001b[0;34m(\u001b[0m\u001b[0mdata\u001b[0m\u001b[0;34m)\u001b[0m\u001b[0;34m\u001b[0m\u001b[0;34m\u001b[0m\u001b[0m\n\u001b[1;32m    422\u001b[0m     \u001b[0;32melse\u001b[0m\u001b[0;34m:\u001b[0m\u001b[0;34m\u001b[0m\u001b[0;34m\u001b[0m\u001b[0m\n\u001b[0;32m--> 423\u001b[0;31m         \u001b[0;32mraise\u001b[0m \u001b[0mNotImplementedError\u001b[0m\u001b[0;34m\u001b[0m\u001b[0;34m\u001b[0m\u001b[0m\n\u001b[0m\u001b[1;32m    424\u001b[0m \u001b[0;34m\u001b[0m\u001b[0m\n\u001b[1;32m    425\u001b[0m     \u001b[0;31m# check to see if a simple recursive function is possible to\u001b[0m\u001b[0;34m\u001b[0m\u001b[0;34m\u001b[0m\u001b[0m\n",
      "\u001b[0;31mNotImplementedError\u001b[0m: "
     ]
    }
   ],
   "source": [
    "for day in dates:\n",
    "    dyr=day.year\n",
    "    dmo=day.month\n",
    "    ddy=day.day\n",
    "    sdyr,sdmo,sddy=str(dyr),str(dmo).zfill(2),str(ddy).zfill(2)\n",
    "    \n",
    "    \n",
    "    pdobj=pd.read_json('https://aqs.epa.gov/data/api/sampleData/bySite?email={0}&key={1}&param={2},&bdate={3}&edate={3}&state={4}&county={5}&site={6}'.format(\n",
    "        email,key,params,sdyr+sdmo+sddy,state,county,site),orient='index')\n",
    "    \n",
    "    df=pd.concat([pd.json_normalize(pdobj[col_idx].Data) for col_idx in pdobj.columns])\n",
    "\n",
    "    times=df.date_local+'_'+df.time_local\n",
    "    times=pd.to_datetime(times,format='%Y-%m-%d_%H:%M')\n",
    "\n",
    "    df=df.set_index(times).sort_index()\n",
    "    df.index.names=['date']\n",
    "\n",
    "    combined_df=pd.concat([df[(df.parameter_code==code)&(df.sample_frequency=='HOURLY')].sample_measurement.rename(df[df.parameter_code==code].parameter[0]) for code in df.parameter_code.unique()],axis=1)\n",
    "\n",
    "    #convert CO and O3 to PPB to be consistent with PM2.5, NO2, & NO\n",
    "    combined_df['Carbon monoxide']=combined_df['Carbon monoxide']*1000\n",
    "    combined_df['Ozone']=combined_df['Ozone']*1000\n",
    "    \n",
    "    combined_df.to_csv('/home/bwallace/EPA_AQS/{0}.csv'.format(sdyr+sdmo+sddy))"
   ]
  },
  {
   "cell_type": "code",
   "execution_count": null,
   "id": "c1bbcb3f-b344-4fee-ac5e-12850bd5039c",
   "metadata": {},
   "outputs": [],
   "source": []
  }
 ],
 "metadata": {
  "kernelspec": {
   "display_name": "Python 3 (ipykernel)",
   "language": "python",
   "name": "python3"
  },
  "language_info": {
   "codemirror_mode": {
    "name": "ipython",
    "version": 3
   },
   "file_extension": ".py",
   "mimetype": "text/x-python",
   "name": "python",
   "nbconvert_exporter": "python",
   "pygments_lexer": "ipython3",
   "version": "3.8.5"
  }
 },
 "nbformat": 4,
 "nbformat_minor": 5
}
